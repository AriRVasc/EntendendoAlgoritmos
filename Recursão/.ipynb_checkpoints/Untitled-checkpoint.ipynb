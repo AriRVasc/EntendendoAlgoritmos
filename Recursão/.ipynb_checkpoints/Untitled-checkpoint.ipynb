{
 "cells": [
  {
   "cell_type": "code",
   "execution_count": 47,
   "id": "282e355a",
   "metadata": {},
   "outputs": [
    {
     "name": "stdout",
     "output_type": "stream",
     "text": [
      "12\n"
     ]
    }
   ],
   "source": [
    "meses_sistema = [\"jan2022\", \"fev2023\", \"mar2022\", \"abr2022\", \"mai2022\", \"jun2022\", \"jul2022\", \"ago2022\", \"set2022\", \"out2022\", \"nov2022\", \"dez2022\"]\n",
    "print(len(meses_sistema))"
   ]
  },
  {
   "cell_type": "code",
   "execution_count": 53,
   "id": "96e7b9ed",
   "metadata": {},
   "outputs": [],
   "source": [
    "import os\n",
    "\n",
    "lista_pastas = []\n",
    "\n",
    "def pegar_arquivos_pasta(pasta):\n",
    "    arquivos = os.listdir(pasta)\n",
    "    for arquivo in arquivos:\n",
    "        if \"txt\" in arquivo and \"Vendas\" in arquivo:\n",
    "            nome_mes = arquivo.split()[-1].replace(\".txt\", \"\")\n",
    "            lista_pastas.append(nome_mes)\n",
    "        elif \"txt\" not in arquivo:\n",
    "            pegar_arquivos_pasta(f'{pasta}/{arquivo}')"
   ]
  },
  {
   "cell_type": "code",
   "execution_count": 56,
   "id": "482e4dbd",
   "metadata": {},
   "outputs": [
    {
     "name": "stdout",
     "output_type": "stream",
     "text": [
      "['abr2018', 'abr2018', 'abr2019', 'abr2019', 'abr2020', 'abr2020', 'abr2021', 'abr2021', 'abr2022', 'abr2022', 'ago2017', 'ago2017', 'ago2018', 'ago2018', 'ago2019', 'ago2019', 'ago2021', 'ago2021', 'ago2022', 'ago2022', 'dez2017', 'dez2017', 'dez2018', 'dez2018', 'dez2019', 'dez2019', 'dez2020', 'dez2020', 'dez2021', 'dez2021', 'dez2022', 'dez2022', 'fev2017', 'fev2017', 'fev2018', 'fev2018', 'fev2019', 'fev2019', 'fev2020', 'fev2020', 'fev2021', 'fev2021', 'fev2022', 'fev2022', 'jan2017', 'jan2017', 'jan2018', 'jan2018', 'jan2019', 'jan2019', 'jan2020', 'jan2020', 'jan2021', 'jan2021', 'jan2022', 'jan2022', 'jul2017', 'jul2017', 'jul2018', 'jul2018', 'jul2019', 'jul2019', 'jul2020', 'jul2020', 'jul2022', 'jul2022', 'jun2017', 'jun2017', 'jun2018', 'jun2018', 'jun2019', 'jun2019', 'jun2020', 'jun2020', 'jun2021', 'jun2021', 'jun2022', 'jun2022', 'mai2017', 'mai2017', 'mai2018', 'mai2018', 'mai2019', 'mai2019', 'mai2020', 'mai2020', 'mai2021', 'mai2021', 'mai2022', 'mai2022', 'mar2017', 'mar2017', 'mar2018', 'mar2018', 'mar2020', 'mar2020', 'mar2022', 'mar2022', 'nov2017', 'nov2017', 'nov2018', 'nov2018', 'nov2019', 'nov2019', 'nov2020', 'nov2020', 'nov2021', 'nov2021', 'nov2022', 'nov2022', 'out2017', 'out2017', 'out2018', 'out2018', 'out2020', 'out2020', 'out2021', 'out2021', 'out2022', 'out2022', 'set2017', 'set2017', 'set2018', 'set2018', 'set2019', 'set2019', 'set2020', 'set2020', 'set2021', 'set2021', 'set2022', 'set2022', 'abr2019', 'ago2019', 'dez2019', 'fev2019', 'jan2019', 'jul2019', 'jun2019', 'mai2019', 'nov2019', 'set2019', 'abr2020', 'dez2020', 'fev2020', 'jan2020', 'jul2020', 'jun2020', 'mai2020', 'mar2020', 'nov2020', 'out2020', 'set2020', 'abr2021', 'ago2021', 'dez2021', 'fev2021', 'jan2021', 'jun2021', 'mai2021', 'nov2021', 'out2021', 'set2021', 'abr2018', 'ago2018', 'dez2018', 'fev2018', 'jan2018', 'jul2018', 'jun2018', 'mai2018', 'mar2018', 'nov2018', 'out2018', 'set2018', 'ago2017', 'dez2017', 'fev2017', 'jan2017', 'jul2017', 'jun2017', 'mai2017', 'mar2017', 'nov2017', 'out2017', 'set2017', 'abr2022', 'ago2022', 'dez2022', 'fev2022', 'jan2022', 'jul2022', 'jun2022', 'mai2022', 'mar2022', 'nov2022', 'out2022', 'set2022']\n"
     ]
    }
   ],
   "source": [
    "pegar_arquivos_pasta(\"Arquivos\")\n",
    "print(lista_pastas)"
   ]
  },
  {
   "cell_type": "code",
   "execution_count": 57,
   "id": "126548fd",
   "metadata": {},
   "outputs": [
    {
     "name": "stdout",
     "output_type": "stream",
     "text": [
      "fev2023\n"
     ]
    }
   ],
   "source": [
    "for mes in meses_sistema:\n",
    "    if mes not in lista_pastas:\n",
    "        print(mes)"
   ]
  },
  {
   "cell_type": "code",
   "execution_count": null,
   "id": "885d91cb",
   "metadata": {},
   "outputs": [],
   "source": []
  },
  {
   "cell_type": "code",
   "execution_count": null,
   "id": "59e5d59e",
   "metadata": {},
   "outputs": [],
   "source": []
  },
  {
   "cell_type": "code",
   "execution_count": null,
   "id": "5be8f7e0",
   "metadata": {},
   "outputs": [],
   "source": []
  }
 ],
 "metadata": {
  "kernelspec": {
   "display_name": "Python 3 (ipykernel)",
   "language": "python",
   "name": "python3"
  },
  "language_info": {
   "codemirror_mode": {
    "name": "ipython",
    "version": 3
   },
   "file_extension": ".py",
   "mimetype": "text/x-python",
   "name": "python",
   "nbconvert_exporter": "python",
   "pygments_lexer": "ipython3",
   "version": "3.11.5"
  }
 },
 "nbformat": 4,
 "nbformat_minor": 5
}
